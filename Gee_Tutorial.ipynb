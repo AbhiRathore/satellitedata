{
  "nbformat": 4,
  "nbformat_minor": 0,
  "metadata": {
    "colab": {
      "name": "Gee_Tutorial.ipynb",
      "provenance": [],
      "collapsed_sections": [],
      "toc_visible": true
    },
    "kernelspec": {
      "name": "python3",
      "display_name": "Python 3"
    }
  },
  "cells": [
    {
      "cell_type": "markdown",
      "metadata": {
        "id": "gjy3w091xu2R"
      },
      "source": [
        "## Google earth - Create account "
      ]
    },
    {
      "cell_type": "code",
      "metadata": {
        "id": "4bgm4PvivXUI"
      },
      "source": [
        "import warnings\r\n",
        "warnings.filterwarnings('ignore')\r\n"
      ],
      "execution_count": 1,
      "outputs": []
    },
    {
      "cell_type": "code",
      "metadata": {
        "colab": {
          "base_uri": "https://localhost:8080/"
        },
        "id": "HDwEG8GSxsfB",
        "outputId": "c20ea6c3-0a01-4e45-af4f-32fb3d307848"
      },
      "source": [
        "# libraries to install \r\n",
        "!pip install earthengine-api --upgrade"
      ],
      "execution_count": 2,
      "outputs": [
        {
          "output_type": "stream",
          "text": [
            "Requirement already up-to-date: earthengine-api in /usr/local/lib/python3.7/dist-packages (0.1.254)\n",
            "Requirement already satisfied, skipping upgrade: future in /usr/local/lib/python3.7/dist-packages (from earthengine-api) (0.16.0)\n",
            "Requirement already satisfied, skipping upgrade: google-cloud-storage in /usr/local/lib/python3.7/dist-packages (from earthengine-api) (1.18.1)\n",
            "Requirement already satisfied, skipping upgrade: six in /usr/local/lib/python3.7/dist-packages (from earthengine-api) (1.15.0)\n",
            "Requirement already satisfied, skipping upgrade: google-api-python-client>=1.12.1 in /usr/local/lib/python3.7/dist-packages (from earthengine-api) (1.12.8)\n",
            "Requirement already satisfied, skipping upgrade: httplib2shim in /usr/local/lib/python3.7/dist-packages (from earthengine-api) (0.0.3)\n",
            "Requirement already satisfied, skipping upgrade: google-auth-httplib2>=0.0.3 in /usr/local/lib/python3.7/dist-packages (from earthengine-api) (0.0.4)\n",
            "Requirement already satisfied, skipping upgrade: google-auth>=1.4.1 in /usr/local/lib/python3.7/dist-packages (from earthengine-api) (1.27.1)\n",
            "Requirement already satisfied, skipping upgrade: httplib2<1dev,>=0.9.2 in /usr/local/lib/python3.7/dist-packages (from earthengine-api) (0.17.4)\n",
            "Requirement already satisfied, skipping upgrade: google-cloud-core<2.0dev,>=1.0.0 in /usr/local/lib/python3.7/dist-packages (from google-cloud-storage->earthengine-api) (1.0.3)\n",
            "Requirement already satisfied, skipping upgrade: google-resumable-media<0.5.0dev,>=0.3.1 in /usr/local/lib/python3.7/dist-packages (from google-cloud-storage->earthengine-api) (0.4.1)\n",
            "Requirement already satisfied, skipping upgrade: uritemplate<4dev,>=3.0.0 in /usr/local/lib/python3.7/dist-packages (from google-api-python-client>=1.12.1->earthengine-api) (3.0.1)\n",
            "Requirement already satisfied, skipping upgrade: google-api-core<2dev,>=1.21.0 in /usr/local/lib/python3.7/dist-packages (from google-api-python-client>=1.12.1->earthengine-api) (1.26.1)\n",
            "Requirement already satisfied, skipping upgrade: urllib3 in /usr/local/lib/python3.7/dist-packages (from httplib2shim->earthengine-api) (1.24.3)\n",
            "Requirement already satisfied, skipping upgrade: certifi in /usr/local/lib/python3.7/dist-packages (from httplib2shim->earthengine-api) (2020.12.5)\n",
            "Requirement already satisfied, skipping upgrade: setuptools>=40.3.0 in /usr/local/lib/python3.7/dist-packages (from google-auth>=1.4.1->earthengine-api) (54.0.0)\n",
            "Requirement already satisfied, skipping upgrade: cachetools<5.0,>=2.0.0 in /usr/local/lib/python3.7/dist-packages (from google-auth>=1.4.1->earthengine-api) (4.2.1)\n",
            "Requirement already satisfied, skipping upgrade: rsa<5,>=3.1.4; python_version >= \"3.6\" in /usr/local/lib/python3.7/dist-packages (from google-auth>=1.4.1->earthengine-api) (4.7.2)\n",
            "Requirement already satisfied, skipping upgrade: pyasn1-modules>=0.2.1 in /usr/local/lib/python3.7/dist-packages (from google-auth>=1.4.1->earthengine-api) (0.2.8)\n",
            "Requirement already satisfied, skipping upgrade: packaging>=14.3 in /usr/local/lib/python3.7/dist-packages (from google-api-core<2dev,>=1.21.0->google-api-python-client>=1.12.1->earthengine-api) (20.9)\n",
            "Requirement already satisfied, skipping upgrade: googleapis-common-protos<2.0dev,>=1.6.0 in /usr/local/lib/python3.7/dist-packages (from google-api-core<2dev,>=1.21.0->google-api-python-client>=1.12.1->earthengine-api) (1.53.0)\n",
            "Requirement already satisfied, skipping upgrade: protobuf>=3.12.0 in /usr/local/lib/python3.7/dist-packages (from google-api-core<2dev,>=1.21.0->google-api-python-client>=1.12.1->earthengine-api) (3.12.4)\n",
            "Requirement already satisfied, skipping upgrade: requests<3.0.0dev,>=2.18.0 in /usr/local/lib/python3.7/dist-packages (from google-api-core<2dev,>=1.21.0->google-api-python-client>=1.12.1->earthengine-api) (2.23.0)\n",
            "Requirement already satisfied, skipping upgrade: pytz in /usr/local/lib/python3.7/dist-packages (from google-api-core<2dev,>=1.21.0->google-api-python-client>=1.12.1->earthengine-api) (2018.9)\n",
            "Requirement already satisfied, skipping upgrade: pyasn1>=0.1.3 in /usr/local/lib/python3.7/dist-packages (from rsa<5,>=3.1.4; python_version >= \"3.6\"->google-auth>=1.4.1->earthengine-api) (0.4.8)\n",
            "Requirement already satisfied, skipping upgrade: pyparsing>=2.0.2 in /usr/local/lib/python3.7/dist-packages (from packaging>=14.3->google-api-core<2dev,>=1.21.0->google-api-python-client>=1.12.1->earthengine-api) (2.4.7)\n",
            "Requirement already satisfied, skipping upgrade: chardet<4,>=3.0.2 in /usr/local/lib/python3.7/dist-packages (from requests<3.0.0dev,>=2.18.0->google-api-core<2dev,>=1.21.0->google-api-python-client>=1.12.1->earthengine-api) (3.0.4)\n",
            "Requirement already satisfied, skipping upgrade: idna<3,>=2.5 in /usr/local/lib/python3.7/dist-packages (from requests<3.0.0dev,>=2.18.0->google-api-core<2dev,>=1.21.0->google-api-python-client>=1.12.1->earthengine-api) (2.10)\n"
          ],
          "name": "stdout"
        }
      ]
    },
    {
      "cell_type": "code",
      "metadata": {
        "colab": {
          "base_uri": "https://localhost:8080/"
        },
        "id": "PUUTwX_Sx_VR",
        "outputId": "62fd0882-38fc-45b1-a347-536285fdaff1"
      },
      "source": [
        "from google.colab import drive ## to mount google drive so that files can be automatically saved there - Follow the instructions after running this command\r\n",
        "drive.mount('/content/gdrive')"
      ],
      "execution_count": 3,
      "outputs": [
        {
          "output_type": "stream",
          "text": [
            "Mounted at /content/gdrive\n"
          ],
          "name": "stdout"
        }
      ]
    },
    {
      "cell_type": "code",
      "metadata": {
        "colab": {
          "base_uri": "https://localhost:8080/"
        },
        "id": "4FgQ9BFCyGro",
        "outputId": "caff8db1-abaf-4812-c6c2-1ba6e57402cf"
      },
      "source": [
        "!pip install pyproj"
      ],
      "execution_count": 4,
      "outputs": [
        {
          "output_type": "stream",
          "text": [
            "Collecting pyproj\n",
            "\u001b[?25l  Downloading https://files.pythonhosted.org/packages/b1/72/d52e9ca81caef056062d71991b0e9b1d16af042245627c5d0e4916a36c4f/pyproj-3.0.1-cp37-cp37m-manylinux2010_x86_64.whl (6.5MB)\n",
            "\u001b[K     |████████████████████████████████| 6.5MB 6.6MB/s \n",
            "\u001b[?25hRequirement already satisfied: certifi in /usr/local/lib/python3.7/dist-packages (from pyproj) (2020.12.5)\n",
            "Installing collected packages: pyproj\n",
            "Successfully installed pyproj-3.0.1\n"
          ],
          "name": "stdout"
        }
      ]
    },
    {
      "cell_type": "code",
      "metadata": {
        "colab": {
          "base_uri": "https://localhost:8080/"
        },
        "id": "lXXFKlisz3RY",
        "outputId": "184acaca-eaba-4f94-a394-245f70c1fecc"
      },
      "source": [
        "!pip install rasterio"
      ],
      "execution_count": 5,
      "outputs": [
        {
          "output_type": "stream",
          "text": [
            "Collecting rasterio\n",
            "\u001b[?25l  Downloading https://files.pythonhosted.org/packages/04/37/40712857e6c82cac52051d9faee43bc468e5806640ddbf88e10d591dbdf1/rasterio-1.2.1-cp37-cp37m-manylinux1_x86_64.whl (19.1MB)\n",
            "\u001b[K     |████████████████████████████████| 19.1MB 1.3MB/s \n",
            "\u001b[?25hCollecting affine\n",
            "  Downloading https://files.pythonhosted.org/packages/ac/a6/1a39a1ede71210e3ddaf623982b06ecfc5c5c03741ae659073159184cd3e/affine-2.3.0-py2.py3-none-any.whl\n",
            "Requirement already satisfied: numpy in /usr/local/lib/python3.7/dist-packages (from rasterio) (1.19.5)\n",
            "Requirement already satisfied: attrs in /usr/local/lib/python3.7/dist-packages (from rasterio) (20.3.0)\n",
            "Collecting cligj>=0.5\n",
            "  Downloading https://files.pythonhosted.org/packages/42/1e/947eadf10d6804bf276eb8a038bd5307996dceaaa41cfd21b7a15ec62f5d/cligj-0.7.1-py3-none-any.whl\n",
            "Requirement already satisfied: certifi in /usr/local/lib/python3.7/dist-packages (from rasterio) (2020.12.5)\n",
            "Collecting click-plugins\n",
            "  Downloading https://files.pythonhosted.org/packages/e9/da/824b92d9942f4e472702488857914bdd50f73021efea15b4cad9aca8ecef/click_plugins-1.1.1-py2.py3-none-any.whl\n",
            "Requirement already satisfied: click<8,>=4.0 in /usr/local/lib/python3.7/dist-packages (from rasterio) (7.1.2)\n",
            "Collecting snuggs>=1.4.1\n",
            "  Downloading https://files.pythonhosted.org/packages/cc/0e/d27d6e806d6c0d1a2cfdc5d1f088e42339a0a54a09c3343f7f81ec8947ea/snuggs-1.4.7-py3-none-any.whl\n",
            "Requirement already satisfied: pyparsing>=2.1.6 in /usr/local/lib/python3.7/dist-packages (from snuggs>=1.4.1->rasterio) (2.4.7)\n",
            "Installing collected packages: affine, cligj, click-plugins, snuggs, rasterio\n",
            "Successfully installed affine-2.3.0 click-plugins-1.1.1 cligj-0.7.1 rasterio-1.2.1 snuggs-1.4.7\n"
          ],
          "name": "stdout"
        }
      ]
    },
    {
      "cell_type": "code",
      "metadata": {
        "colab": {
          "base_uri": "https://localhost:8080/"
        },
        "id": "ozeNTiQ_yjzL",
        "outputId": "9a2cb5a9-b9de-433c-f4bf-b7c81418e1aa"
      },
      "source": [
        "!earthengine authenticate"
      ],
      "execution_count": 6,
      "outputs": [
        {
          "output_type": "stream",
          "text": [
            "WARNING:tensorflow:From /usr/local/lib/python3.7/dist-packages/tensorflow/python/compat/v2_compat.py:96: disable_resource_variables (from tensorflow.python.ops.variable_scope) is deprecated and will be removed in a future version.\n",
            "Instructions for updating:\n",
            "non-resource variables are not supported in the long term\n",
            "To authorize access needed by Earth Engine, open the following URL in a web browser and follow the instructions. If the web browser does not start automatically, please manually browse the URL below.\n",
            "\n",
            "    https://accounts.google.com/o/oauth2/auth?client_id=517222506229-vsmmajv00ul0bs7p89v5m89qs8eb9359.apps.googleusercontent.com&scope=https%3A%2F%2Fwww.googleapis.com%2Fauth%2Fearthengine+https%3A%2F%2Fwww.googleapis.com%2Fauth%2Fdevstorage.full_control&redirect_uri=urn%3Aietf%3Awg%3Aoauth%3A2.0%3Aoob&response_type=code&code_challenge=lTkrQkmfgYAMI3pOAjgJvy0J_1uJ3uzC1at7cSWLhBQ&code_challenge_method=S256\n",
            "\n",
            "The authorization workflow will generate a code, which you should paste in the box below. \n",
            "Enter verification code: 4/1AY0e-g5CDFZjmHsutapqjBuYW3iUahs7i7pAWs1B7bA03uuNdaXb_PXkyx0\n",
            "\n",
            "Successfully saved authorization token.\n"
          ],
          "name": "stdout"
        }
      ]
    },
    {
      "cell_type": "code",
      "metadata": {
        "id": "ClgK7i9EyfvB",
        "colab": {
          "base_uri": "https://localhost:8080/"
        },
        "outputId": "7fe2c6c7-7ddf-4c1d-c73a-b58d2586c78c"
      },
      "source": [
        "!pip install -U -q folium\r\n",
        "!pip install -U -q git+https://github.com/mccarthyryanc/folium_gee.git"
      ],
      "execution_count": 7,
      "outputs": [
        {
          "output_type": "stream",
          "text": [
            "\u001b[?25l\r\u001b[K     |███▌                            | 10kB 12.3MB/s eta 0:00:01\r\u001b[K     |███████                         | 20kB 18.0MB/s eta 0:00:01\r\u001b[K     |██████████▍                     | 30kB 18.0MB/s eta 0:00:01\r\u001b[K     |█████████████▉                  | 40kB 13.1MB/s eta 0:00:01\r\u001b[K     |█████████████████▎              | 51kB 8.2MB/s eta 0:00:01\r\u001b[K     |████████████████████▊           | 61kB 7.5MB/s eta 0:00:01\r\u001b[K     |████████████████████████▏       | 71kB 7.9MB/s eta 0:00:01\r\u001b[K     |███████████████████████████▋    | 81kB 8.6MB/s eta 0:00:01\r\u001b[K     |███████████████████████████████ | 92kB 8.8MB/s eta 0:00:01\r\u001b[K     |████████████████████████████████| 102kB 4.9MB/s \n",
            "\u001b[31mERROR: datascience 0.10.6 has requirement folium==0.2.1, but you'll have folium 0.12.1 which is incompatible.\u001b[0m\n",
            "\u001b[?25h  Building wheel for foliumgee (setup.py) ... \u001b[?25l\u001b[?25hdone\n"
          ],
          "name": "stdout"
        }
      ]
    },
    {
      "cell_type": "code",
      "metadata": {
        "id": "SYkyr2PyyTGZ"
      },
      "source": [
        "import time\r\n",
        "\r\n",
        "import ee\r\n",
        "import folium\r\n",
        "import foliumgee\r\n",
        "import json\r\n",
        "import os\r\n",
        "from functools import partial\r\n",
        "ee.Initialize()\r\n",
        "\r\n",
        "import pyproj\r\n",
        "from shapely.geometry import Point, mapping\r\n",
        "from shapely.ops import transform\r\n",
        "from tqdm import tqdm\r\n",
        "from shapely.geometry import shape\r\n",
        "\r\n",
        "\r\n",
        "start_date = '2017-01-01'\r\n",
        "end_date = '2017-12-31'\r\n",
        "def collection(name):\r\n",
        "    \"\"\"\r\n",
        "    Creates an ee.ImageCollection stack or sequence of images\r\n",
        "    for aoi between the desired start and end dates.\r\n",
        "\r\n",
        "    Args:\r\n",
        "        :param name: str\r\n",
        "            name of image collection\r\n",
        "    Returns:\r\n",
        "        :returns iee.ImageCollection:\r\n",
        "            an ImageCollection stack or sequence of images\r\n",
        "    \"\"\"\r\n",
        "    return (ee.ImageCollection(name)\r\n",
        "            .filterBounds(gg)\r\n",
        "            .filterDate(start_date, end_date))\r\n",
        "\r\n",
        "def rename_l8(image):\r\n",
        "    \"\"\"\r\n",
        "    Args:\r\n",
        "        :param image: ee.Image\r\n",
        "            landsat8 image\r\n",
        "\r\n",
        "    Returns:\r\n",
        "        :returns:\r\n",
        "            ee.Image with bands rescaled\r\n",
        "    \"\"\"\r\n",
        "    newnames = ['AEROS', 'BLUE', 'GREEN', 'RED', 'NIR', 'SWIR1', 'SWIR2',\r\n",
        "                'TEMP1', 'TEMP2', 'sr_aerosol', 'pixel_qa', 'radsat_qa']\r\n",
        "    return image.rename(newnames)\r\n",
        "\r\n",
        "def rescale_l8(image):\r\n",
        "    \"\"\"\r\n",
        "    Args:\r\n",
        "        :param image: ee.Image\r\n",
        "            landsat8 image\r\n",
        "    Returns:\r\n",
        "        :returns scaled:\r\n",
        "            ee.Image with bands rescaled\r\n",
        "    \"\"\"\r\n",
        "    opt = image.select(['AEROS', 'BLUE', 'GREEN', 'RED', 'NIR', 'SWIR1', 'SWIR2'])\r\n",
        "    therm = image.select(['TEMP1', 'TEMP2'])\r\n",
        "    masks = image.select(['sr_aerosol', 'pixel_qa', 'radsat_qa'])\r\n",
        "\r\n",
        "    opt = opt.multiply(0.0001)\r\n",
        "    therm = therm.multiply(0.1)\r\n",
        "\r\n",
        "    scaled = ee.Image.cat([opt, therm, masks]).copyProperties(image)\r\n",
        "    # system properties are not copied\r\n",
        "    scaled = scaled.set('system:time_start', image.get('system:time_start'))\r\n",
        "    return scaled\r\n",
        "\r\n",
        "def decode_qamask(image):\r\n",
        "    \"\"\"\r\n",
        "    Args:\r\n",
        "        :param image: ee.Image\r\n",
        "            Landsat satellite image containing 'pixel_qa' band\r\n",
        "\r\n",
        "    Returns:\r\n",
        "        :returns masks: ee.Image\r\n",
        "            contains 5 bands of masks\r\n",
        "            Pixel QA Bit Flags\r\n",
        "            Bit  Attribute\r\n",
        "            0    Fill\r\n",
        "            1    Clear\r\n",
        "            2    Water\r\n",
        "            3    Cloud Shadow\r\n",
        "            4    Snow\r\n",
        "            5    Cloud\r\n",
        "    \"\"\"\r\n",
        "    qa = image.select('pixel_qa')\r\n",
        "    clear = qa.bitwiseAnd(2).neq(0)  # 0 = not clear, 1 = clear\r\n",
        "    clear = clear.updateMask(clear).rename(['pxqa_clear'])\r\n",
        "\r\n",
        "    water = qa.bitwiseAnd(4).neq(0)  # 0 = not water, 1 = water\r\n",
        "    water = water.updateMask(water).rename(['pxqa_water'])\r\n",
        "\r\n",
        "    cloud_shadow = qa.bitwiseAnd(8).eq(0)  # 0 = shadow, 1 = not shadow\r\n",
        "    cloud_shadow = cloud_shadow.updateMask(cloud_shadow).rename(['pxqa_cloudshadow'])\r\n",
        "\r\n",
        "    snow = qa.bitwiseAnd(16).eq(0)  # 0 = snow, 1 = not snow\r\n",
        "    snow = snow.updateMask(snow).rename(['pxqa_snow'])\r\n",
        "\r\n",
        "    cloud = qa.bitwiseAnd(32).eq(0)  # 0 = cloud, 1 = not cloud\r\n",
        "    cloud = cloud.updateMask(cloud).rename(['pxqa_cloud'])\r\n",
        "\r\n",
        "    masks = ee.Image.cat([clear, water, cloud_shadow, snow, cloud])\r\n",
        "    return masks\r\n",
        "\r\n",
        "def mask_qaclear( image):\r\n",
        "    \"\"\"\r\n",
        "    Args:\r\n",
        "        :param image: ee.Image\r\n",
        "            Landsat satellite image\r\n",
        "\r\n",
        "    Returns:\r\n",
        "        :returns masked_image: ee.Image\r\n",
        "            input image with cloud-shadow, snow, cloud, and unclear\r\n",
        "            pixels masked out\r\n",
        "    \"\"\"\r\n",
        "    qam = decode_qamask(image)\r\n",
        "    cloudshadow_mask = qam.select('pxqa_cloudshadow')\r\n",
        "    snow_mask = qam.select('pxqa_snow')\r\n",
        "    cloud_mask = qam.select('pxqa_cloud')\r\n",
        "    masked_image = (image\r\n",
        "                    .updateMask(cloudshadow_mask)\r\n",
        "                    .updateMask(snow_mask)\r\n",
        "                    .updateMask(cloud_mask))\r\n",
        "    return masked_image\r\n",
        "\r\n",
        "\r\n",
        "def reproject_geom(geom, src_epsg, dst_epsg):\r\n",
        "    \"\"\"Reproject a shapely geometry given a source EPSG and a\r\n",
        "    target EPSG.\r\n",
        "    \"\"\"\r\n",
        "    src_proj = pyproj.Proj(init='epsg:{}'.format(src_epsg))\r\n",
        "    dst_proj = pyproj.Proj(init='epsg:{}'.format(dst_epsg))\r\n",
        "    reproj = partial(pyproj.transform, src_proj, dst_proj)\r\n",
        "    return transform(reproj, geom)\r\n",
        "\r\n",
        "\r\n",
        "def buffer_extent(lat, lon, dst_epsg, buffer_size):\r\n",
        "    \"\"\"Generate a buffer around a location and returns\r\n",
        "    the geometry corresponding to its spatial envelope.\r\n",
        "    \"\"\"\r\n",
        "    center = reproject_geom(\r\n",
        "        Point(lon, lat), src_epsg=4326, dst_epsg=dst_epsg)\r\n",
        "    buffer = center.buffer(buffer_size)\r\n",
        "    return buffer.exterior.envelope\r\n",
        "\r\n",
        "\r\n",
        "def geojson_crs(epsg):\r\n",
        "    \"\"\"Generate a GeoJSON CRS member from an EPSG code.\"\"\"\r\n",
        "    epsg = int(epsg)\r\n",
        "    if epsg == 4326:\r\n",
        "        coordinate_order = [1, 0]\r\n",
        "    else:\r\n",
        "        coordinate_order = [0, 1]\r\n",
        "    return {\r\n",
        "        'type': 'EPSG',\r\n",
        "        'properties': {'code': epsg, 'coordinate_order': coordinate_order}}\r\n",
        "\r\n",
        "\r\n",
        "def as_geojson(geom, epsg=None):\r\n",
        "    \"\"\"Get a GeoJSON-like dictionnary of a single shapely geometry.\"\"\"\r\n",
        "    geojson = {'type': 'Feature', 'geometry': mapping(geom)}\r\n",
        "    if epsg:\r\n",
        "        geojson.update(crs=geojson_crs(epsg))\r\n",
        "    return geojson\r\n",
        "\r\n",
        "\r\n",
        "def write(geom, output_f):\r\n",
        "    \"\"\"Write a GeoJSON-like dictionnary to disk.\"\"\"\r\n",
        "    geojson = json.dumps(geom, indent=True)\r\n",
        "    os.makedirs(os.path.dirname(output_f), exist_ok=True)\r\n",
        "    with open(output_f, 'w') as f:\r\n",
        "        f.write(geojson)\r\n",
        "    return\r\n"
      ],
      "execution_count": 11,
      "outputs": []
    },
    {
      "cell_type": "code",
      "metadata": {
        "id": "PJnZQZSKQkz3"
      },
      "source": [
        ""
      ],
      "execution_count": 11,
      "outputs": []
    },
    {
      "cell_type": "code",
      "metadata": {
        "id": "e77UzuZBsesQ"
      },
      "source": [
        "img = ee.ImageCollection('USDA/NASS/CDL').select('cropland').median()"
      ],
      "execution_count": 12,
      "outputs": []
    },
    {
      "cell_type": "code",
      "metadata": {
        "id": "760e1ITifmUu"
      },
      "source": [
        "# Define a method for displaying Earth Engine image tiles on a folium map.\r\n",
        "def add_ee_layer(self, ee_object, vis_params, name):\r\n",
        "    \r\n",
        "    try:    \r\n",
        "        # display ee.Image()\r\n",
        "        if isinstance(ee_object, ee.image.Image):    \r\n",
        "            map_id_dict = ee.Image(ee_object).getMapId(vis_params)\r\n",
        "            folium.raster_layers.TileLayer(\r\n",
        "            tiles = map_id_dict['tile_fetcher'].url_format,\r\n",
        "            attr = 'Google Earth Engine',\r\n",
        "            name = name,\r\n",
        "            overlay = True,\r\n",
        "            control = True\r\n",
        "            ).add_to(self)\r\n",
        "        # display ee.ImageCollection()\r\n",
        "        elif isinstance(ee_object, ee.imagecollection.ImageCollection):    \r\n",
        "            ee_object_new = ee_object.mosaic()\r\n",
        "            map_id_dict = ee.Image(ee_object_new).getMapId(vis_params)\r\n",
        "            folium.raster_layers.TileLayer(\r\n",
        "            tiles = map_id_dict['tile_fetcher'].url_format,\r\n",
        "            attr = 'Google Earth Engine',\r\n",
        "            name = name,\r\n",
        "            overlay = True,\r\n",
        "            control = True\r\n",
        "            ).add_to(self)\r\n",
        "        # display ee.Geometry()\r\n",
        "        elif isinstance(ee_object, ee.geometry.Geometry):    \r\n",
        "            folium.GeoJson(\r\n",
        "            data = ee_object.getInfo(),\r\n",
        "            name = name,\r\n",
        "            overlay = True,\r\n",
        "            control = True\r\n",
        "        ).add_to(self)\r\n",
        "        # display ee.FeatureCollection()\r\n",
        "        elif isinstance(ee_object, ee.featurecollection.FeatureCollection):  \r\n",
        "            ee_object_new = ee.Image().paint(ee_object, 0, 2)\r\n",
        "            map_id_dict = ee.Image(ee_object_new).getMapId(vis_params)\r\n",
        "            folium.raster_layers.TileLayer(\r\n",
        "            tiles = map_id_dict['tile_fetcher'].url_format,\r\n",
        "            attr = 'Google Earth Engine',\r\n",
        "            name = name,\r\n",
        "            overlay = True,\r\n",
        "            control = True\r\n",
        "        ).add_to(self)\r\n",
        "    \r\n",
        "    except:\r\n",
        "        print(\"Could not display {}\".format(name))\r\n",
        "    \r\n",
        "# Add EE drawing method to folium.\r\n",
        "folium.Map.add_ee_layer = add_ee_layer"
      ],
      "execution_count": 13,
      "outputs": []
    },
    {
      "cell_type": "code",
      "metadata": {
        "id": "8nvFy22Uy9yX",
        "colab": {
          "base_uri": "https://localhost:8080/",
          "height": 916
        },
        "outputId": "ccae5351-17f4-48da-eb2c-727e99c293d0"
      },
      "source": [
        "cropLandcover = ee.ImageCollection('USDA/NASS/CDL').filter(ee.Filter.date('2018-01-01', '2019-12-31')).first().select('cropland')\r\n",
        "# Create a folium basemap into which EE layers above will be added\r\n",
        "myMap = folium.Map(location=[40.71,-100.55], zoom_start=5)\r\n",
        "\r\n",
        "foliumgee.layer(myMap, cropLandcover)\r\n",
        "\r\n",
        "# Add a layer control widget to the map\r\n",
        "myMap.add_ee_layer(cropLandcover, {}, 'Crop Landcover')\r\n",
        "\r\n",
        "folium.LayerControl().add_to(myMap)\r\n",
        "\r\n",
        "# Show the map!\r\n",
        "myMap"
      ],
      "execution_count": 14,
      "outputs": [
        {
          "output_type": "execute_result",
          "data": {
            "text/html": [
              "<div style=\"width:100%;\"><div style=\"position:relative;width:100%;height:0;padding-bottom:60%;\"><span style=\"color:#565656\">Make this Notebook Trusted to load map: File -> Trust Notebook</span><iframe src=\"about:blank\" style=\"position:absolute;width:100%;height:100%;left:0;top:0;border:none !important;\" data-html=%3C%21DOCTYPE%20html%3E%0A%3Chead%3E%20%20%20%20%0A%20%20%20%20%3Cmeta%20http-equiv%3D%22content-type%22%20content%3D%22text/html%3B%20charset%3DUTF-8%22%20/%3E%0A%20%20%20%20%0A%20%20%20%20%20%20%20%20%3Cscript%3E%0A%20%20%20%20%20%20%20%20%20%20%20%20L_NO_TOUCH%20%3D%20false%3B%0A%20%20%20%20%20%20%20%20%20%20%20%20L_DISABLE_3D%20%3D%20false%3B%0A%20%20%20%20%20%20%20%20%3C/script%3E%0A%20%20%20%20%0A%20%20%20%20%3Cstyle%3Ehtml%2C%20body%20%7Bwidth%3A%20100%25%3Bheight%3A%20100%25%3Bmargin%3A%200%3Bpadding%3A%200%3B%7D%3C/style%3E%0A%20%20%20%20%3Cstyle%3E%23map%20%7Bposition%3Aabsolute%3Btop%3A0%3Bbottom%3A0%3Bright%3A0%3Bleft%3A0%3B%7D%3C/style%3E%0A%20%20%20%20%3Cscript%20src%3D%22https%3A//cdn.jsdelivr.net/npm/leaflet%401.6.0/dist/leaflet.js%22%3E%3C/script%3E%0A%20%20%20%20%3Cscript%20src%3D%22https%3A//code.jquery.com/jquery-1.12.4.min.js%22%3E%3C/script%3E%0A%20%20%20%20%3Cscript%20src%3D%22https%3A//maxcdn.bootstrapcdn.com/bootstrap/3.2.0/js/bootstrap.min.js%22%3E%3C/script%3E%0A%20%20%20%20%3Cscript%20src%3D%22https%3A//cdnjs.cloudflare.com/ajax/libs/Leaflet.awesome-markers/2.0.2/leaflet.awesome-markers.js%22%3E%3C/script%3E%0A%20%20%20%20%3Clink%20rel%3D%22stylesheet%22%20href%3D%22https%3A//cdn.jsdelivr.net/npm/leaflet%401.6.0/dist/leaflet.css%22/%3E%0A%20%20%20%20%3Clink%20rel%3D%22stylesheet%22%20href%3D%22https%3A//maxcdn.bootstrapcdn.com/bootstrap/3.2.0/css/bootstrap.min.css%22/%3E%0A%20%20%20%20%3Clink%20rel%3D%22stylesheet%22%20href%3D%22https%3A//maxcdn.bootstrapcdn.com/bootstrap/3.2.0/css/bootstrap-theme.min.css%22/%3E%0A%20%20%20%20%3Clink%20rel%3D%22stylesheet%22%20href%3D%22https%3A//maxcdn.bootstrapcdn.com/font-awesome/4.6.3/css/font-awesome.min.css%22/%3E%0A%20%20%20%20%3Clink%20rel%3D%22stylesheet%22%20href%3D%22https%3A//cdnjs.cloudflare.com/ajax/libs/Leaflet.awesome-markers/2.0.2/leaflet.awesome-markers.css%22/%3E%0A%20%20%20%20%3Clink%20rel%3D%22stylesheet%22%20href%3D%22https%3A//cdn.jsdelivr.net/gh/python-visualization/folium/folium/templates/leaflet.awesome.rotate.min.css%22/%3E%0A%20%20%20%20%0A%20%20%20%20%20%20%20%20%20%20%20%20%3Cmeta%20name%3D%22viewport%22%20content%3D%22width%3Ddevice-width%2C%0A%20%20%20%20%20%20%20%20%20%20%20%20%20%20%20%20initial-scale%3D1.0%2C%20maximum-scale%3D1.0%2C%20user-scalable%3Dno%22%20/%3E%0A%20%20%20%20%20%20%20%20%20%20%20%20%3Cstyle%3E%0A%20%20%20%20%20%20%20%20%20%20%20%20%20%20%20%20%23map_fcfe24c6ec6840189c783b4b828ed556%20%7B%0A%20%20%20%20%20%20%20%20%20%20%20%20%20%20%20%20%20%20%20%20position%3A%20relative%3B%0A%20%20%20%20%20%20%20%20%20%20%20%20%20%20%20%20%20%20%20%20width%3A%20100.0%25%3B%0A%20%20%20%20%20%20%20%20%20%20%20%20%20%20%20%20%20%20%20%20height%3A%20100.0%25%3B%0A%20%20%20%20%20%20%20%20%20%20%20%20%20%20%20%20%20%20%20%20left%3A%200.0%25%3B%0A%20%20%20%20%20%20%20%20%20%20%20%20%20%20%20%20%20%20%20%20top%3A%200.0%25%3B%0A%20%20%20%20%20%20%20%20%20%20%20%20%20%20%20%20%7D%0A%20%20%20%20%20%20%20%20%20%20%20%20%3C/style%3E%0A%20%20%20%20%20%20%20%20%0A%3C/head%3E%0A%3Cbody%3E%20%20%20%20%0A%20%20%20%20%0A%20%20%20%20%20%20%20%20%20%20%20%20%3Cdiv%20class%3D%22folium-map%22%20id%3D%22map_fcfe24c6ec6840189c783b4b828ed556%22%20%3E%3C/div%3E%0A%20%20%20%20%20%20%20%20%0A%3C/body%3E%0A%3Cscript%3E%20%20%20%20%0A%20%20%20%20%0A%20%20%20%20%20%20%20%20%20%20%20%20var%20map_fcfe24c6ec6840189c783b4b828ed556%20%3D%20L.map%28%0A%20%20%20%20%20%20%20%20%20%20%20%20%20%20%20%20%22map_fcfe24c6ec6840189c783b4b828ed556%22%2C%0A%20%20%20%20%20%20%20%20%20%20%20%20%20%20%20%20%7B%0A%20%20%20%20%20%20%20%20%20%20%20%20%20%20%20%20%20%20%20%20center%3A%20%5B40.71%2C%20-100.55%5D%2C%0A%20%20%20%20%20%20%20%20%20%20%20%20%20%20%20%20%20%20%20%20crs%3A%20L.CRS.EPSG3857%2C%0A%20%20%20%20%20%20%20%20%20%20%20%20%20%20%20%20%20%20%20%20zoom%3A%205%2C%0A%20%20%20%20%20%20%20%20%20%20%20%20%20%20%20%20%20%20%20%20zoomControl%3A%20true%2C%0A%20%20%20%20%20%20%20%20%20%20%20%20%20%20%20%20%20%20%20%20preferCanvas%3A%20false%2C%0A%20%20%20%20%20%20%20%20%20%20%20%20%20%20%20%20%7D%0A%20%20%20%20%20%20%20%20%20%20%20%20%29%3B%0A%0A%20%20%20%20%20%20%20%20%20%20%20%20%0A%0A%20%20%20%20%20%20%20%20%0A%20%20%20%20%0A%20%20%20%20%20%20%20%20%20%20%20%20var%20tile_layer_cd99c2eaded54b42830c1a75dfe1c392%20%3D%20L.tileLayer%28%0A%20%20%20%20%20%20%20%20%20%20%20%20%20%20%20%20%22https%3A//%7Bs%7D.tile.openstreetmap.org/%7Bz%7D/%7Bx%7D/%7By%7D.png%22%2C%0A%20%20%20%20%20%20%20%20%20%20%20%20%20%20%20%20%7B%22attribution%22%3A%20%22Data%20by%20%5Cu0026copy%3B%20%5Cu003ca%20href%3D%5C%22http%3A//openstreetmap.org%5C%22%5Cu003eOpenStreetMap%5Cu003c/a%5Cu003e%2C%20under%20%5Cu003ca%20href%3D%5C%22http%3A//www.openstreetmap.org/copyright%5C%22%5Cu003eODbL%5Cu003c/a%5Cu003e.%22%2C%20%22detectRetina%22%3A%20false%2C%20%22maxNativeZoom%22%3A%2018%2C%20%22maxZoom%22%3A%2018%2C%20%22minZoom%22%3A%200%2C%20%22noWrap%22%3A%20false%2C%20%22opacity%22%3A%201%2C%20%22subdomains%22%3A%20%22abc%22%2C%20%22tms%22%3A%20false%7D%0A%20%20%20%20%20%20%20%20%20%20%20%20%29.addTo%28map_fcfe24c6ec6840189c783b4b828ed556%29%3B%0A%20%20%20%20%20%20%20%20%0A%20%20%20%20%0A%20%20%20%20%20%20%20%20%20%20%20%20var%20tile_layer_94a98f6c2e52426db910d89627d2466c%20%3D%20L.tileLayer%28%0A%20%20%20%20%20%20%20%20%20%20%20%20%20%20%20%20%22https%3A//earthengine.googleapis.com/map/projects/earthengine-legacy/maps/84dd6c0c10bca1a81f6f48cf24690999-4bd4aaef828f8773737b8fc62839c19d/%7Bz%7D/%7Bx%7D/%7By%7D%3Ftoken%3D%22%2C%0A%20%20%20%20%20%20%20%20%20%20%20%20%20%20%20%20%7B%22attribution%22%3A%20%22Map%20Data%20%5Cu0026copy%3B%20%5Cu003ca%20href%3D%5C%22https%3A//earthengine.google.com/%5C%22%5Cu003eGoogle%20Earth%20Engine%5Cu003c/a%5Cu003e%20%22%2C%20%22detectRetina%22%3A%20false%2C%20%22maxNativeZoom%22%3A%2018%2C%20%22maxZoom%22%3A%2018%2C%20%22minZoom%22%3A%200%2C%20%22noWrap%22%3A%20false%2C%20%22opacity%22%3A%201%2C%20%22subdomains%22%3A%20%22abc%22%2C%20%22tms%22%3A%20false%7D%0A%20%20%20%20%20%20%20%20%20%20%20%20%29.addTo%28map_fcfe24c6ec6840189c783b4b828ed556%29%3B%0A%20%20%20%20%20%20%20%20%0A%20%20%20%20%0A%20%20%20%20%20%20%20%20%20%20%20%20var%20tile_layer_8df91a38baab4928a689db9e8693d3ce%20%3D%20L.tileLayer%28%0A%20%20%20%20%20%20%20%20%20%20%20%20%20%20%20%20%22https%3A//earthengine.googleapis.com/v1alpha/projects/earthengine-legacy/maps/84dd6c0c10bca1a81f6f48cf24690999-00d73eb2c4b91cfc37d4cce8b1e806cc/tiles/%7Bz%7D/%7Bx%7D/%7By%7D%22%2C%0A%20%20%20%20%20%20%20%20%20%20%20%20%20%20%20%20%7B%22attribution%22%3A%20%22Google%20Earth%20Engine%22%2C%20%22detectRetina%22%3A%20false%2C%20%22maxNativeZoom%22%3A%2018%2C%20%22maxZoom%22%3A%2018%2C%20%22minZoom%22%3A%200%2C%20%22noWrap%22%3A%20false%2C%20%22opacity%22%3A%201%2C%20%22subdomains%22%3A%20%22abc%22%2C%20%22tms%22%3A%20false%7D%0A%20%20%20%20%20%20%20%20%20%20%20%20%29.addTo%28map_fcfe24c6ec6840189c783b4b828ed556%29%3B%0A%20%20%20%20%20%20%20%20%0A%20%20%20%20%0A%20%20%20%20%20%20%20%20%20%20%20%20var%20layer_control_41e409189ec14d04bb70cf52e8593d90%20%3D%20%7B%0A%20%20%20%20%20%20%20%20%20%20%20%20%20%20%20%20base_layers%20%3A%20%7B%0A%20%20%20%20%20%20%20%20%20%20%20%20%20%20%20%20%20%20%20%20%22openstreetmap%22%20%3A%20tile_layer_cd99c2eaded54b42830c1a75dfe1c392%2C%0A%20%20%20%20%20%20%20%20%20%20%20%20%20%20%20%20%20%20%20%20%22https%3A//earthengine.googleapis.com/map/projects/earthengine-legacy/maps/84dd6c0c10bca1a81f6f48cf24690999-4bd4aaef828f8773737b8fc62839c19d/%7Bz%7D/%7Bx%7D/%7By%7D%3Ftoken%3D%22%20%3A%20tile_layer_94a98f6c2e52426db910d89627d2466c%2C%0A%20%20%20%20%20%20%20%20%20%20%20%20%20%20%20%20%7D%2C%0A%20%20%20%20%20%20%20%20%20%20%20%20%20%20%20%20overlays%20%3A%20%20%7B%0A%20%20%20%20%20%20%20%20%20%20%20%20%20%20%20%20%20%20%20%20%22Crop%20Landcover%22%20%3A%20tile_layer_8df91a38baab4928a689db9e8693d3ce%2C%0A%20%20%20%20%20%20%20%20%20%20%20%20%20%20%20%20%7D%2C%0A%20%20%20%20%20%20%20%20%20%20%20%20%7D%3B%0A%20%20%20%20%20%20%20%20%20%20%20%20L.control.layers%28%0A%20%20%20%20%20%20%20%20%20%20%20%20%20%20%20%20layer_control_41e409189ec14d04bb70cf52e8593d90.base_layers%2C%0A%20%20%20%20%20%20%20%20%20%20%20%20%20%20%20%20layer_control_41e409189ec14d04bb70cf52e8593d90.overlays%2C%0A%20%20%20%20%20%20%20%20%20%20%20%20%20%20%20%20%7B%22autoZIndex%22%3A%20true%2C%20%22collapsed%22%3A%20true%2C%20%22position%22%3A%20%22topright%22%7D%0A%20%20%20%20%20%20%20%20%20%20%20%20%29.addTo%28map_fcfe24c6ec6840189c783b4b828ed556%29%3B%0A%20%20%20%20%20%20%20%20%20%20%20%20tile_layer_94a98f6c2e52426db910d89627d2466c.remove%28%29%3B%0A%20%20%20%20%20%20%20%20%0A%3C/script%3E onload=\"this.contentDocument.open();this.contentDocument.write(    decodeURIComponent(this.getAttribute('data-html')));this.contentDocument.close();\" allowfullscreen webkitallowfullscreen mozallowfullscreen></iframe></div></div>"
            ],
            "text/plain": [
              "<folium.folium.Map at 0x7fa5d56e6c50>"
            ]
          },
          "metadata": {
            "tags": []
          },
          "execution_count": 14
        }
      ]
    },
    {
      "cell_type": "code",
      "metadata": {
        "id": "VSwgAxx8oxfG"
      },
      "source": [
        "lat = 40.71\r\n",
        "lon = -100.55"
      ],
      "execution_count": 15,
      "outputs": []
    },
    {
      "cell_type": "code",
      "metadata": {
        "id": "Bod7TQsQoPn3"
      },
      "source": [
        "extent = buffer_extent(lat, lon, 3857 , buffer_size=5000) #1.6594, 28.0339\r\n",
        "extent = as_geojson(extent,3857)\r\n",
        "aoi = reproject_geom(shape(extent['geometry']), 3857, 4326)\r\n",
        "xmin, ymin, xmax, ymax = [round(coord, 3) for coord in aoi.bounds]\r\n",
        "\r\n",
        "bbox = [xmin, ymin, xmax, ymax]\r\n",
        "gg = ee.Geometry.Rectangle(bbox)"
      ],
      "execution_count": 16,
      "outputs": []
    },
    {
      "cell_type": "code",
      "metadata": {
        "id": "0ZTA4oKH4da0"
      },
      "source": [
        ""
      ],
      "execution_count": 16,
      "outputs": []
    },
    {
      "cell_type": "code",
      "metadata": {
        "id": "Q5HKy3Xio5cC"
      },
      "source": [
        "geov = gg.getInfo()['coordinates']\r\n",
        "task_config = {\r\n",
        "            'description': 'geov',\r\n",
        "            'scale': 30,\r\n",
        "            'folder': 'images_satellite','fileNamePrefix':'geov3',\r\n",
        "            'region':  geov \r\n",
        "        }\r\n",
        "\r\n",
        "\r\n",
        "cropimg = ee.ImageCollection('USDA/NASS/CDL').filter(ee.Filter.date('2018-01-01', '2019-12-31')).first().select('cropland')\r\n"
      ],
      "execution_count": 17,
      "outputs": []
    },
    {
      "cell_type": "code",
      "metadata": {
        "colab": {
          "base_uri": "https://localhost:8080/"
        },
        "id": "RIWccKeto5ey",
        "outputId": "b09453db-76b1-41a1-e7eb-50754f5befa1"
      },
      "source": [
        "task = ee.batch.Export.image.toDrive(image=cropimg,**task_config)\r\n",
        "task.start()\r\n",
        "\r\n",
        "while task.active() == True:\r\n",
        "  pass\r\n",
        "print(\"completed\")"
      ],
      "execution_count": 18,
      "outputs": [
        {
          "output_type": "stream",
          "text": [
            "completed\n"
          ],
          "name": "stdout"
        }
      ]
    },
    {
      "cell_type": "code",
      "metadata": {
        "id": "C38UQlkxo5g-"
      },
      "source": [
        "import rasterio as rio\r\n",
        "from rasterio.plot import show\r\n",
        "import matplotlib.pylab as plt\r\n",
        "rr = \"/content/gdrive/MyDrive/images_satellite/geov3.tif\"\r\n",
        "scene = rio.open(rr)"
      ],
      "execution_count": 19,
      "outputs": []
    },
    {
      "cell_type": "code",
      "metadata": {
        "colab": {
          "base_uri": "https://localhost:8080/"
        },
        "id": "y_Axbwiyo5jK",
        "outputId": "b659340a-e1c9-42d8-f57f-2af972a311c2"
      },
      "source": [
        "scene.read().shape"
      ],
      "execution_count": 20,
      "outputs": [
        {
          "output_type": "execute_result",
          "data": {
            "text/plain": [
              "(1, 266, 264)"
            ]
          },
          "metadata": {
            "tags": []
          },
          "execution_count": 20
        }
      ]
    },
    {
      "cell_type": "code",
      "metadata": {
        "colab": {
          "base_uri": "https://localhost:8080/",
          "height": 1000
        },
        "id": "IZCQxmPyqZY6",
        "outputId": "b272746d-27c7-45e6-d559-d2316e3b310f"
      },
      "source": [
        "fig, ax = plt.subplots(1, figsize=(18,18))\r\n",
        "show(scene.read(1))\r\n",
        "plt.show()"
      ],
      "execution_count": 21,
      "outputs": [
        {
          "output_type": "display_data",
          "data": {
            "image/png": "[encoded data removed]",
            "text/plain": [
              "<Figure size 1296x1296 with 1 Axes>"
            ]
          },
          "metadata": {
            "tags": [],
            "needs_background": "light"
          }
        }
      ]
    },
    {
      "cell_type": "code",
      "metadata": {
        "id": "DHu4vKEP9jzW"
      },
      "source": [
        ""
      ],
      "execution_count": null,
      "outputs": []
    },
    {
      "cell_type": "code",
      "metadata": {
        "id": "GA1SjGJ49j3k"
      },
      "source": [
        ""
      ],
      "execution_count": null,
      "outputs": []
    },
    {
      "cell_type": "markdown",
      "metadata": {
        "id": "Rhg-iZLG8FNs"
      },
      "source": [
        ""
      ]
    }
  ]
}
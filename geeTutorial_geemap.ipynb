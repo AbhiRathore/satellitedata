{
 "cells": [
  {
   "cell_type": "code",
   "execution_count": 1,
   "id": "creative-throw",
   "metadata": {},
   "outputs": [],
   "source": [
    "import ee\n",
    "import geemap\n",
    "import pandas as pd\n",
    "import pyproj\n",
    "from shapely.geometry import Point, mapping\n",
    "from shapely.ops import transform\n",
    "from shapely.geometry import shape\n",
    "from functools import partial\n",
    "\n",
    "import warnings\n",
    "warnings.filterwarnings('ignore')"
   ]
  },
  {
   "cell_type": "code",
   "execution_count": 48,
   "id": "acute-characterization",
   "metadata": {},
   "outputs": [],
   "source": [
    "# Create a map centered at (lat, lon).\n",
    "Map = geemap.Map()"
   ]
  },
  {
   "cell_type": "code",
   "execution_count": 49,
   "id": "promotional-laptop",
   "metadata": {},
   "outputs": [],
   "source": [
    "palette = ['ffd300', 'ff2626', '00a8e2', 'ff9e0a', '267000', 'ffff00',\n",
    "       '70a500', '00af49', 'dda50a', 'dda50a', '7cd3ff', 'e2007c',\n",
    "       '896054', 'd8b56b', 'a57000', 'd69ebc', '707000', 'aa007c',\n",
    "       'a05989', '700049', 'd69ebc', 'd1ff00', '7c99ff', 'd6d600',\n",
    "       'd1ff00', '00af49', 'ffa5e2', 'a5f28c', '00af49', 'd69ebc',\n",
    "       'a800e2', 'a50000', '702600', '00af49', 'af7cff', '702600',\n",
    "       'ff6666', 'ff6666', 'ffcc66', 'ff6666', '00af49', '00ddaf',\n",
    "       '54ff00', 'f2a377', 'ff6666', '00af49', '7cd3ff', 'e8bfff',\n",
    "       'afffdd', '00af49', 'bfbf77', '93cc93', 'c6d69e', 'ccbfa3',\n",
    "       'ff00ff', 'ff8eaa', 'ba004f', '704489', '007777', 'af9970',\n",
    "       'ffff7c', 'b5705b', '00a582', 'e8d6af', 'af9970', 'f2f2f2',\n",
    "       '999999', '4970a3', '7cafaf', 'e8ffbf', '00ffff', '4970a3',\n",
    "       'd3e2f9', '999999', '999999', '999999', '999999', 'ccbfa3',\n",
    "       '93cc93', '93cc93', '93cc93', 'c6d69e', 'e8ffbf', '7cafaf',\n",
    "       '7cafaf', '00ff8c', 'd69ebc', 'ff6666', 'ff6666', 'ff6666',\n",
    "       'ff6666', 'ff8eaa', '334933', 'e27026', 'ff6666', 'ff6666',\n",
    "       '739755', 'ff6666', 'af9970', 'ff8eaa', 'ff6666', 'ff8eaa',\n",
    "       'ff6666', 'ff6666', 'ff8eaa', '00af49', 'ffd300', 'ffd300',\n",
    "       'ff6666', 'f8d248', 'ff6666', '896054', 'ff6666', 'ff2626',\n",
    "       'e2007c', 'ff9e0a', 'ff9e0a', 'a57000', 'ffd300', 'a57000',\n",
    "       '267000', '267000', 'ffd300', '000099', 'ff6666', 'ff6666',\n",
    "       'ff6666', 'ff6666', 'ff6666', 'ff6666', 'ff6666', 'ff6666',\n",
    "       '267000']"
   ]
  },
  {
   "cell_type": "code",
   "execution_count": 50,
   "id": "stupid-positive",
   "metadata": {},
   "outputs": [],
   "source": [
    "## https://gis.stackexchange.com/questions/345642/export-landcover-area-after-classification-google-earth-engine"
   ]
  },
  {
   "cell_type": "code",
   "execution_count": 51,
   "id": "arranged-timeline",
   "metadata": {},
   "outputs": [],
   "source": [
    "\n",
    "def reproject_geom(geom, src_epsg, dst_epsg):\n",
    "    \"\"\"Reproject a shapely geometry given a source EPSG and a\n",
    "    target EPSG.\n",
    "    \"\"\"\n",
    "    src_proj = pyproj.Proj(init='epsg:{}'.format(src_epsg))\n",
    "    dst_proj = pyproj.Proj(init='epsg:{}'.format(dst_epsg))\n",
    "    reproj = partial(pyproj.transform, src_proj, dst_proj)\n",
    "    return transform(reproj, geom)\n",
    "\n",
    "\n",
    "def buffer_extent(lat, lon, dst_epsg, buffer_size):\n",
    "    \"\"\"Generate a buffer around a location and returns\n",
    "    the geometry corresponding to its spatial envelope.\n",
    "    \"\"\"\n",
    "    center = reproject_geom(\n",
    "        Point(lon, lat), src_epsg=4326, dst_epsg=dst_epsg)\n",
    "    buffer = center.buffer(buffer_size)\n",
    "    return buffer.exterior.envelope\n",
    "\n",
    "\n",
    "def geojson_crs(epsg):\n",
    "    \"\"\"Generate a GeoJSON CRS member from an EPSG code.\"\"\"\n",
    "    epsg = int(epsg)\n",
    "    if epsg == 4326:\n",
    "        coordinate_order = [1, 0]\n",
    "    else:\n",
    "        coordinate_order = [0, 1]\n",
    "    return {\n",
    "        'type': 'EPSG',\n",
    "        'properties': {'code': epsg, 'coordinate_order': coordinate_order}}\n",
    "\n",
    "\n",
    "def as_geojson(geom, epsg=None):\n",
    "    \"\"\"Get a GeoJSON-like dictionnary of a single shapely geometry.\"\"\"\n",
    "    geojson = {'type': 'Feature', 'geometry': mapping(geom)}\n",
    "    if epsg:\n",
    "        geojson.update(crs=geojson_crs(epsg))\n",
    "    return geojson"
   ]
  },
  {
   "cell_type": "code",
   "execution_count": 52,
   "id": "deadly-shelf",
   "metadata": {},
   "outputs": [],
   "source": [
    "lat = 40.71\n",
    "lon = -100.55\n",
    "\n",
    "extent = buffer_extent(lat, lon, 3857 , buffer_size=5000) #1.6594, 28.0339\n",
    "extent = as_geojson(extent,3857)\n",
    "aoi = reproject_geom(shape(extent['geometry']), 3857, 4326)\n",
    "xmin, ymin, xmax, ymax = [round(coord, 3) for coord in aoi.bounds]\n",
    "\n",
    "bbox = [xmin, ymin, xmax, ymax]\n",
    "gg = ee.Geometry.Rectangle(bbox)"
   ]
  },
  {
   "cell_type": "markdown",
   "id": "treated-oasis",
   "metadata": {},
   "source": [
    "### working code crop land"
   ]
  },
  {
   "cell_type": "code",
   "execution_count": 53,
   "id": "filled-millennium",
   "metadata": {},
   "outputs": [
    {
     "data": {
      "application/vnd.jupyter.widget-view+json": {
       "model_id": "2557ae65ad884c41b6ae961ddab3547e",
       "version_major": 2,
       "version_minor": 0
      },
      "text/plain": [
       "Map(center=[40.71, -100.55000000000001], controls=(WidgetControl(options=['position'], widget=HBox(children=(T…"
      ]
     },
     "metadata": {},
     "output_type": "display_data"
    }
   ],
   "source": [
    "Map = geemap.Map()\n",
    "# Map = geemap.Map(center=[40.71, -100.55], zoom=4)\n",
    "\n",
    "point = ee.Geometry.Point([-100.55, 40.71])\n",
    "# point = ee.Geometry.Point([-87.7719, 41.8799])\n",
    "\n",
    "image = ee.ImageCollection('LANDSAT/LC08/C01/T1_SR') \\\n",
    "    .filterBounds(point) \\\n",
    "    .filterDate('2016-01-01', '2016-12-31') \\\n",
    "    .sort('CLOUD_COVER') \\\n",
    "    .first() \\\n",
    "    .select('B[1-7]')\n",
    "\n",
    "vis_params = {\n",
    "    'min': 0,\n",
    "    'max': 3000,\n",
    "    'bands': ['B5', 'B4', 'B3']\n",
    "}\n",
    "\n",
    "Map.centerObject(point, 8)\n",
    "Map.addLayer(image, vis_params, \"Landsat-8\")\n",
    "Map"
   ]
  },
  {
   "cell_type": "code",
   "execution_count": 54,
   "id": "acknowledged-salvation",
   "metadata": {},
   "outputs": [
    {
     "data": {
      "text/plain": [
       "'2016-04-22'"
      ]
     },
     "execution_count": 54,
     "metadata": {},
     "output_type": "execute_result"
    }
   ],
   "source": [
    "ee.Date(image.get('system:time_start')).format('YYYY-MM-dd').getInfo()\n"
   ]
  },
  {
   "cell_type": "code",
   "execution_count": 55,
   "id": "behind-story",
   "metadata": {},
   "outputs": [
    {
     "data": {
      "text/plain": [
       "0"
      ]
     },
     "execution_count": 55,
     "metadata": {},
     "output_type": "execute_result"
    }
   ],
   "source": [
    "image.get('CLOUD_COVER').getInfo()\n"
   ]
  },
  {
   "cell_type": "code",
   "execution_count": 56,
   "id": "royal-single",
   "metadata": {},
   "outputs": [],
   "source": [
    "geometry = ee.Geometry.Point([-100.55, 40.71])\n"
   ]
  },
  {
   "cell_type": "code",
   "execution_count": 57,
   "id": "discrete-pearl",
   "metadata": {},
   "outputs": [],
   "source": [
    "cropLandcover = ee.ImageCollection('USDA/NASS/CDL')\\\n",
    "                .filterBounds(geometry) \\\n",
    "                .filter(ee.Filter.date('2018-01-01', '2019-12-31')).first().select('cultivated')\n",
    "                #.filter(ee.Filter.date('2018-01-01', '2019-12-31')).first().select('cultivated') #cropland\n",
    "                \n",
    "\n",
    "\n",
    "\n",
    "landcoverPalette = ['ffd300', 'ff2626', '00a8e2', 'ff9e0a', '267000', 'ffff00',\n",
    "       '70a500', '00af49', 'dda50a', 'dda50a', '7cd3ff', 'e2007c',\n",
    "       '896054', 'd8b56b', 'a57000', 'd69ebc', '707000', 'aa007c',\n",
    "       'a05989', '700049', 'd69ebc', 'd1ff00', '7c99ff', 'd6d600',\n",
    "       'd1ff00', '00af49', 'ffa5e2', 'a5f28c', '00af49', 'd69ebc',\n",
    "       'a800e2', 'a50000', '702600', '00af49', 'af7cff', '702600',\n",
    "       'ff6666', 'ff6666', 'ffcc66', 'ff6666', '00af49', '00ddaf',\n",
    "       '54ff00', 'f2a377', 'ff6666', '00af49', '7cd3ff', 'e8bfff',\n",
    "       'afffdd', '00af49', 'bfbf77', '93cc93', 'c6d69e', 'ccbfa3',\n",
    "       'ff00ff', 'ff8eaa', 'ba004f', '704489', '007777', 'af9970',\n",
    "       'ffff7c', 'b5705b', '00a582', 'e8d6af', 'af9970', 'f2f2f2',\n",
    "       '999999', '4970a3', '7cafaf', 'e8ffbf', '00ffff', '4970a3',\n",
    "       'd3e2f9', '999999', '999999', '999999', '999999', 'ccbfa3',\n",
    "       '93cc93', '93cc93', '93cc93', 'c6d69e', 'e8ffbf', '7cafaf',\n",
    "       '7cafaf', '00ff8c', 'd69ebc', 'ff6666', 'ff6666', 'ff6666',\n",
    "       'ff6666', 'ff8eaa', '334933', 'e27026', 'ff6666', 'ff6666',\n",
    "       '739755', 'ff6666', 'af9970', 'ff8eaa', 'ff6666', 'ff8eaa',\n",
    "       'ff6666', 'ff6666', 'ff8eaa', '00af49', 'ffd300', 'ffd300',\n",
    "       'ff6666', 'f8d248', 'ff6666', '896054', 'ff6666', 'ff2626',\n",
    "       'e2007c', 'ff9e0a', 'ff9e0a', 'a57000', 'ffd300', 'a57000',\n",
    "       '267000', '267000', 'ffd300', '000099', 'ff6666', 'ff6666',\n",
    "       'ff6666', 'ff6666', 'ff6666', 'ff6666', 'ff6666', 'ff6666',\n",
    "       '267000']\n",
    "\n",
    "landcoverVisualization = {'palette': landcoverPalette, 'min': 1, 'max': 254, 'format': 'png'}\n",
    "# Map.addLayer(cropLandcover,\n",
    "#              landcoverVisualization,\n",
    "#              'Crop Landcover')"
   ]
  },
  {
   "cell_type": "code",
   "execution_count": 58,
   "id": "prostate-testament",
   "metadata": {},
   "outputs": [
    {
     "data": {
      "application/vnd.jupyter.widget-view+json": {
       "model_id": "2557ae65ad884c41b6ae961ddab3547e",
       "version_major": 2,
       "version_minor": 0
      },
      "text/plain": [
       "Map(bottom=24941.0, center=[40.71, -100.55000000000001], controls=(WidgetControl(options=['position'], widget=…"
      ]
     },
     "metadata": {},
     "output_type": "display_data"
    }
   ],
   "source": [
    "Map.addLayer(cropLandcover,{}, 'cultivated')\n",
    "Map"
   ]
  },
  {
   "cell_type": "code",
   "execution_count": 59,
   "id": "quarterly-boost",
   "metadata": {},
   "outputs": [],
   "source": [
    "\n",
    "# Make the training dataset.\n",
    "points = cropLandcover.sample(**{\n",
    "    'region': image.geometry(),\n",
    "    'scale': 30,\n",
    "    'numPixels': 5000,\n",
    "    'seed': 0,\n",
    "    'geometries': True  # Set this to False to ignore geometries\n",
    "})\n",
    "\n",
    "Map.addLayer(points, {}, 'training', False)"
   ]
  },
  {
   "cell_type": "code",
   "execution_count": 60,
   "id": "catholic-seating",
   "metadata": {},
   "outputs": [
    {
     "name": "stdout",
     "output_type": "stream",
     "text": [
      "5000\n"
     ]
    }
   ],
   "source": [
    "print(points.size().getInfo())\n"
   ]
  },
  {
   "cell_type": "code",
   "execution_count": 61,
   "id": "searching-context",
   "metadata": {},
   "outputs": [
    {
     "name": "stdout",
     "output_type": "stream",
     "text": [
      "{'type': 'Feature', 'geometry': {'type': 'Point', 'coordinates': [-99.58353038155882, 39.97737372431678]}, 'id': '0', 'properties': {'cultivated': 2}}\n"
     ]
    }
   ],
   "source": [
    "print(points.first().getInfo())\n"
   ]
  },
  {
   "cell_type": "code",
   "execution_count": 62,
   "id": "sudden-arrest",
   "metadata": {},
   "outputs": [],
   "source": [
    "bands = ['B1', 'B2', 'B3', 'B4', 'B5', 'B6', 'B7']\n",
    "\n",
    "\n",
    "# This property of the table stores the land cover labels.\n",
    "label = 'cultivated' #cultivated cropland\n",
    "\n",
    "# Overlay the points on the imagery to get training.\n",
    "# training = image.select(bands).sampleRegions(**{\n",
    "#   'collection': points,\n",
    "#   'properties': [label],\n",
    "#   'scale': 30\n",
    "# })\n",
    "sample = image.select(bands).sampleRegions(**{\n",
    "  'collection': points,\n",
    "  'properties': [label],\n",
    "  'scale': 30\n",
    "})\n",
    "sample = sample.randomColumn()\n",
    "\n",
    "split = 0.8\n",
    "\n",
    "training = sample.filter(ee.Filter.lt('random', split))\n",
    "validation = sample.filter(ee.Filter.gte('random', split))\n"
   ]
  },
  {
   "cell_type": "code",
   "execution_count": 63,
   "id": "expanded-adoption",
   "metadata": {},
   "outputs": [
    {
     "data": {
      "text/plain": [
       "{'type': 'Feature',\n",
       " 'geometry': None,\n",
       " 'id': '0_0',\n",
       " 'properties': {'B1': 576,\n",
       "  'B2': 749,\n",
       "  'B3': 1076,\n",
       "  'B4': 1414,\n",
       "  'B5': 2352,\n",
       "  'B6': 3345,\n",
       "  'B7': 2499,\n",
       "  'cultivated': 2,\n",
       "  'random': 0.781419414845358}}"
      ]
     },
     "execution_count": 63,
     "metadata": {},
     "output_type": "execute_result"
    }
   ],
   "source": [
    "training.first().getInfo()\n"
   ]
  },
  {
   "cell_type": "code",
   "execution_count": 64,
   "id": "closed-influence",
   "metadata": {},
   "outputs": [
    {
     "data": {
      "text/plain": [
       "{'type': 'Feature',\n",
       " 'geometry': None,\n",
       " 'id': '13_0',\n",
       " 'properties': {'B1': 437,\n",
       "  'B2': 554,\n",
       "  'B3': 750,\n",
       "  'B4': 936,\n",
       "  'B5': 1658,\n",
       "  'B6': 2456,\n",
       "  'B7': 1927,\n",
       "  'cultivated': 2,\n",
       "  'random': 0.8577752970044478}}"
      ]
     },
     "execution_count": 64,
     "metadata": {},
     "output_type": "execute_result"
    }
   ],
   "source": [
    "validation.first().getInfo()\n"
   ]
  },
  {
   "cell_type": "code",
   "execution_count": 65,
   "id": "satellite-psychiatry",
   "metadata": {},
   "outputs": [],
   "source": [
    "# trained = ee.Classifier.smileCart().train(training, label, bands)\n",
    "classifier = ee.Classifier.smileRandomForest(500).train(training, label, bands)\n"
   ]
  },
  {
   "cell_type": "code",
   "execution_count": null,
   "id": "numerical-apparatus",
   "metadata": {},
   "outputs": [],
   "source": []
  },
  {
   "cell_type": "code",
   "execution_count": 66,
   "id": "aging-plaza",
   "metadata": {},
   "outputs": [],
   "source": [
    "\n",
    "# Classify the image with the same bands used for training.\n",
    "result = image.select(bands).classify(classifier) ## trained\n",
    "\n",
    "# # Display the clusters with random colors.\n",
    "Map.addLayer(result.randomVisualizer(), {}, 'classfied')\n",
    "#Map"
   ]
  },
  {
   "cell_type": "code",
   "execution_count": 67,
   "id": "expired-bibliography",
   "metadata": {},
   "outputs": [],
   "source": [
    "# Classify the image with the same bands used for training.\n",
    "result = image.select(bands).classify(classifier)\n",
    "\n",
    "# # Display the clusters with random colors.\n",
    "Map.addLayer(result.randomVisualizer(), {}, 'classfied')\n",
    "#Map"
   ]
  },
  {
   "cell_type": "code",
   "execution_count": 68,
   "id": "parental-budapest",
   "metadata": {},
   "outputs": [],
   "source": [
    "class_values = cropLandcover.get('cultivated_class_values').getInfo()"
   ]
  },
  {
   "cell_type": "code",
   "execution_count": 391,
   "id": "external-blend",
   "metadata": {},
   "outputs": [],
   "source": [
    "#class_values = cropLandcover.get('cropland_class_values').getInfo()"
   ]
  },
  {
   "cell_type": "code",
   "execution_count": 69,
   "id": "affected-japanese",
   "metadata": {},
   "outputs": [],
   "source": [
    "n_classes = len(class_values)\n",
    "new_class_values = list(range(0, n_classes))\n"
   ]
  },
  {
   "cell_type": "code",
   "execution_count": 70,
   "id": "following-improvement",
   "metadata": {},
   "outputs": [],
   "source": [
    "class_palette = cropLandcover.get('cultivated_class_palette').getInfo()\n",
    "#class_palette"
   ]
  },
  {
   "cell_type": "code",
   "execution_count": 393,
   "id": "systematic-particle",
   "metadata": {},
   "outputs": [],
   "source": [
    "#class_palette = cropLandcover.get('cropland_class_palette').getInfo()\n",
    "#class_palette"
   ]
  },
  {
   "cell_type": "code",
   "execution_count": 71,
   "id": "color-benjamin",
   "metadata": {},
   "outputs": [],
   "source": [
    "croplandcover = result.set('classification_class_values', class_values)\n",
    "croplandcover = croplandcover.set('classification_class_palette', class_palette)"
   ]
  },
  {
   "cell_type": "code",
   "execution_count": 72,
   "id": "external-cheese",
   "metadata": {},
   "outputs": [
    {
     "data": {
      "application/vnd.jupyter.widget-view+json": {
       "model_id": "2557ae65ad884c41b6ae961ddab3547e",
       "version_major": 2,
       "version_minor": 0
      },
      "text/plain": [
       "Map(bottom=24941.0, center=[40.71, -100.55000000000001], controls=(WidgetControl(options=['position'], widget=…"
      ]
     },
     "metadata": {},
     "output_type": "display_data"
    }
   ],
   "source": [
    "Map.addLayer(croplandcover, {}, 'Crop Landcover')\n",
    "Map"
   ]
  },
  {
   "cell_type": "code",
   "execution_count": 300,
   "id": "front-worse",
   "metadata": {},
   "outputs": [],
   "source": [
    "# cropLandcover.getInfo()"
   ]
  },
  {
   "cell_type": "code",
   "execution_count": 73,
   "id": "entire-minnesota",
   "metadata": {},
   "outputs": [
    {
     "name": "stdout",
     "output_type": "stream",
     "text": [
      "Change layer opacity:\n"
     ]
    },
    {
     "data": {
      "application/vnd.jupyter.widget-view+json": {
       "model_id": "ee1d9d065c4a44cbb90664d0cf1fa206",
       "version_major": 2,
       "version_minor": 0
      },
      "text/plain": [
       "Box(children=(FloatSlider(value=1.0, description='opacity', max=1.0),))"
      ]
     },
     "metadata": {},
     "output_type": "display_data"
    }
   ],
   "source": [
    "print('Change layer opacity:')\n",
    "cluster_layer = Map.layers[-1]\n",
    "cluster_layer.interact(opacity=(0, 1, 0.1))"
   ]
  },
  {
   "cell_type": "code",
   "execution_count": 74,
   "id": "impressed-carpet",
   "metadata": {},
   "outputs": [],
   "source": [
    "#Map.add_legend(builtin_legend='USDA/NASS/CDL')\n",
    "# Map"
   ]
  },
  {
   "cell_type": "code",
   "execution_count": 75,
   "id": "unusual-collar",
   "metadata": {},
   "outputs": [],
   "source": [
    "train_accuracy = classifier.confusionMatrix()\n"
   ]
  },
  {
   "cell_type": "code",
   "execution_count": 76,
   "id": "active-liabilities",
   "metadata": {},
   "outputs": [],
   "source": [
    "# train_accuracy.getInfo()\n"
   ]
  },
  {
   "cell_type": "code",
   "execution_count": 77,
   "id": "still-beach",
   "metadata": {},
   "outputs": [
    {
     "data": {
      "text/plain": [
       "0.9987493746873437"
      ]
     },
     "execution_count": 77,
     "metadata": {},
     "output_type": "execute_result"
    }
   ],
   "source": [
    "train_accuracy.accuracy().getInfo()\n"
   ]
  },
  {
   "cell_type": "code",
   "execution_count": 78,
   "id": "recognized-economics",
   "metadata": {},
   "outputs": [
    {
     "data": {
      "text/plain": [
       "0.9974987418634036"
      ]
     },
     "execution_count": 78,
     "metadata": {},
     "output_type": "execute_result"
    }
   ],
   "source": [
    "train_accuracy.kappa().getInfo()\n"
   ]
  },
  {
   "cell_type": "code",
   "execution_count": 79,
   "id": "sudden-darkness",
   "metadata": {},
   "outputs": [],
   "source": [
    "# print(train_accuracy.getInfo())"
   ]
  },
  {
   "cell_type": "code",
   "execution_count": 80,
   "id": "meaning-edgar",
   "metadata": {},
   "outputs": [],
   "source": [
    "# train_accuracy.consumersAccuracy().getInfo()\n"
   ]
  },
  {
   "cell_type": "code",
   "execution_count": 81,
   "id": "external-groove",
   "metadata": {},
   "outputs": [],
   "source": [
    "validated = validation.classify(classifier)\n"
   ]
  },
  {
   "cell_type": "code",
   "execution_count": 82,
   "id": "documentary-gather",
   "metadata": {},
   "outputs": [
    {
     "data": {
      "text/plain": [
       "{'type': 'Feature',\n",
       " 'geometry': None,\n",
       " 'id': '13_0',\n",
       " 'properties': {'B1': 437,\n",
       "  'B2': 554,\n",
       "  'B3': 750,\n",
       "  'B4': 936,\n",
       "  'B5': 1658,\n",
       "  'B6': 2456,\n",
       "  'B7': 1927,\n",
       "  'classification': 2,\n",
       "  'cultivated': 2,\n",
       "  'random': 0.8577752970044478}}"
      ]
     },
     "execution_count": 82,
     "metadata": {},
     "output_type": "execute_result"
    }
   ],
   "source": [
    "validated.first().getInfo()\n"
   ]
  },
  {
   "cell_type": "code",
   "execution_count": 96,
   "id": "seventh-northern",
   "metadata": {},
   "outputs": [],
   "source": [
    "test_accuracy = validated.errorMatrix('cultivated', 'classification')\n"
   ]
  },
  {
   "cell_type": "code",
   "execution_count": 97,
   "id": "female-version",
   "metadata": {},
   "outputs": [],
   "source": [
    "#test_accuracy = validated.errorMatrix('croplandcover', 'classification')\n"
   ]
  },
  {
   "cell_type": "markdown",
   "id": "waiting-theater",
   "metadata": {},
   "source": [
    "### test accuracy"
   ]
  },
  {
   "cell_type": "code",
   "execution_count": 98,
   "id": "electronic-waters",
   "metadata": {},
   "outputs": [
    {
     "data": {
      "text/plain": [
       "0.899"
      ]
     },
     "execution_count": 98,
     "metadata": {},
     "output_type": "execute_result"
    }
   ],
   "source": [
    "test_accuracy.accuracy().getInfo()\n"
   ]
  },
  {
   "cell_type": "code",
   "execution_count": 99,
   "id": "experienced-detection",
   "metadata": {},
   "outputs": [
    {
     "data": {
      "text/plain": [
       "0.797739488461138"
      ]
     },
     "execution_count": 99,
     "metadata": {},
     "output_type": "execute_result"
    }
   ],
   "source": [
    "test_accuracy.kappa().getInfo()\n"
   ]
  },
  {
   "cell_type": "code",
   "execution_count": 100,
   "id": "experimental-twenty",
   "metadata": {},
   "outputs": [
    {
     "data": {
      "text/plain": [
       "[[0], [0.9105058365758755], [0.8868312757201646]]"
      ]
     },
     "execution_count": 100,
     "metadata": {},
     "output_type": "execute_result"
    }
   ],
   "source": [
    "test_accuracy.producersAccuracy().getInfo()\n"
   ]
  },
  {
   "cell_type": "code",
   "execution_count": 101,
   "id": "decreased-meditation",
   "metadata": {},
   "outputs": [
    {
     "data": {
      "text/plain": [
       "[[0, 0.8948374760994264, 0.9035639412997903]]"
      ]
     },
     "execution_count": 101,
     "metadata": {},
     "output_type": "execute_result"
    }
   ],
   "source": [
    "test_accuracy.consumersAccuracy().getInfo()\n"
   ]
  },
  {
   "cell_type": "code",
   "execution_count": null,
   "id": "logical-abuse",
   "metadata": {},
   "outputs": [],
   "source": []
  },
  {
   "cell_type": "code",
   "execution_count": null,
   "id": "attended-thumbnail",
   "metadata": {},
   "outputs": [],
   "source": []
  },
  {
   "cell_type": "code",
   "execution_count": 102,
   "id": "lyric-characteristic",
   "metadata": {},
   "outputs": [],
   "source": [
    "croplandcover = croplandcover.remap(class_values, class_values).select(['remapped'], ['classification'])\n"
   ]
  },
  {
   "cell_type": "code",
   "execution_count": 103,
   "id": "pointed-aerospace",
   "metadata": {},
   "outputs": [],
   "source": [
    "cropLandcover = cropLandcover.set('classification_class_values', class_values)\n",
    "cropLandcover = cropLandcover.set('classification_class_palette', landcoverPalette)"
   ]
  },
  {
   "cell_type": "code",
   "execution_count": 104,
   "id": "fifth-cliff",
   "metadata": {},
   "outputs": [
    {
     "data": {
      "application/vnd.jupyter.widget-view+json": {
       "model_id": "2557ae65ad884c41b6ae961ddab3547e",
       "version_major": 2,
       "version_minor": 0
      },
      "text/plain": [
       "Map(bottom=6586.0, center=[38.58252615935333, -104.677734375], controls=(WidgetControl(options=['position'], w…"
      ]
     },
     "metadata": {},
     "output_type": "display_data"
    }
   ],
   "source": [
    "Map.addLayer(cropLandcover, {}, 'Final land cover')\n",
    "Map"
   ]
  },
  {
   "cell_type": "code",
   "execution_count": 105,
   "id": "documented-nothing",
   "metadata": {},
   "outputs": [],
   "source": [
    "# import os\n",
    "# out_dir = \"D:/env_geemap/dataImages/\"\n",
    "# out_file = os.path.join(out_dir, 'croplandcoverfFinal.tif')"
   ]
  },
  {
   "cell_type": "code",
   "execution_count": 106,
   "id": "thrown-substitute",
   "metadata": {},
   "outputs": [],
   "source": [
    "# geemap.ee_export_image(croplandcover, filename=out_file, scale=900,)\n"
   ]
  },
  {
   "cell_type": "code",
   "execution_count": null,
   "id": "functional-glossary",
   "metadata": {},
   "outputs": [],
   "source": []
  }
 ],
 "metadata": {
  "kernelspec": {
   "display_name": "Python 3",
   "language": "python",
   "name": "python3"
  },
  "language_info": {
   "codemirror_mode": {
    "name": "ipython",
    "version": 3
   },
   "file_extension": ".py",
   "mimetype": "text/x-python",
   "name": "python",
   "nbconvert_exporter": "python",
   "pygments_lexer": "ipython3",
   "version": "3.6.9"
  }
 },
 "nbformat": 4,
 "nbformat_minor": 5
}
